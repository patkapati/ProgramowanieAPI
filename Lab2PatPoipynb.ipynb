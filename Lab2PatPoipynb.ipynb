{
  "nbformat": 4,
  "nbformat_minor": 0,
  "metadata": {
    "colab": {
      "provenance": []
    },
    "kernelspec": {
      "name": "python3",
      "display_name": "Python 3"
    },
    "language_info": {
      "name": "python"
    }
  },
  "cells": [
    {
      "cell_type": "code",
      "execution_count": null,
      "metadata": {
        "id": "CH6MFb6GUmH0"
      },
      "outputs": [],
      "source": [
        "#Zad1\n",
        "\n",
        "a = \"Uwielbiam zajęcia z programowania\"\n",
        "print(len(a))\n",
        "#a)\n",
        "print (a[13:-10])\n",
        "\n",
        "#b)\n",
        "print (a[-33:])\n",
        "\n",
        "#c)\n",
        "print (a[1:33:3])"
      ]
    },
    {
      "cell_type": "code",
      "source": [
        "#Zad2\n",
        "\n",
        "b = '''Czarny to mój ulubiony kolor, niestety, kolor czarny bardzo szybko spiera się z moich ubrań'''\n",
        "\n",
        "#a)\n",
        "print (b.isupper())\n",
        "\n",
        "#b)\n",
        "print (b.startswith(\"C\"))\n",
        "\n",
        "#c\n",
        "b = b.lower()\n",
        "print (b.replace (\"czarny\", \"czerwony\"))"
      ],
      "metadata": {
        "id": "7KbPkXIAUr85"
      },
      "execution_count": null,
      "outputs": []
    }
  ]
}